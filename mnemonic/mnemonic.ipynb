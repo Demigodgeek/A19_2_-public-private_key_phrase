{
 "cells": [
  {
   "cell_type": "code",
   "execution_count": null,
   "id": "1a6311d1-8199-49e5-87d8-6a8618d1fd9d",
   "metadata": {},
   "outputs": [],
   "source": [
    "# Note_M19_L2"
   ]
  },
  {
   "cell_type": "code",
   "execution_count": 17,
   "id": "05fd5fb2-6ac6-4a20-b6a9-e6ce5adf77cc",
   "metadata": {},
   "outputs": [],
   "source": [
    "# Imports\n",
    "import os\n",
    "from dotenv import load_dotenv\n",
    "load_dotenv()\n",
    "from mnemonic import Mnemonic\n",
    "from bip44 import Wallet\n",
    "from web3 import Account\n",
    "from web3.auto import w3\n",
    "from eth_account.messages import encode_defunct\n",
    "\n",
    "# `os` `load_dotenv` \n",
    "# import the information contained in the .env file into a Jupyter notebook\n",
    "# `Account` \n",
    "# create an Account object through which interact with Ethereum account on the Ethereum blockchain"
   ]
  },
  {
   "cell_type": "code",
   "execution_count": 2,
   "id": "8da2be46-471e-478f-bd4f-6713eecc66bc",
   "metadata": {},
   "outputs": [
    {
     "data": {
      "text/plain": [
       "'narrow spell isolate unfold expose disorder half proof gas nature about clinic'"
      ]
     },
     "metadata": {},
     "output_type": "display_data"
    }
   ],
   "source": [
    "# Load the value of the MNEMONIC variable from the .env file\n",
    "mnemonic = os.getenv(\"MNEMONIC\")\n",
    "# use os.getenv to check the environment for the environment variable MNEMONIC.\n",
    "# save the contents stored in the .env’s MNEMONIC variable to a program variable named mnemonic.\n",
    "\n",
    "# Evaluate the contents of the mnemonic variable\n",
    "# Create a new mnemonic seed phrase if the value of mnemonic equals None\n",
    "if mnemonic is None:\n",
    "  mnemo = Mnemonic(\"english\")\n",
    "  mnemonic = mnemo.generate(strength=128)\n",
    "# Use an if statement to check if mnemonic is None\n",
    "\n",
    "# a. If the program variable mnemonic is not None \n",
    "# (i.e., if we already have a mnemonic phrase saved in an associated .env file), \n",
    "# then we will print the contents of the variable. \n",
    "# This will return our mnemonic seed phrase.\n",
    "\n",
    "# b. If the value of mnemonic is None \n",
    "# (i.e., if we do not yet have a mnemonic phrase saved in an associated .env file), \n",
    "# then we’ll generate a new mnemonic. \n",
    "# by calling the function Mnemonic, passing it the string “english” (for English words). \n",
    "# then save the function as a variable named mnemo.\n",
    "\n",
    "\n",
    "# Display the value of the mnemonic variable\n",
    "display(mnemonic)\n",
    "# return newly generated mnemonic seed phrase which is a 12-word phrase"
   ]
  },
  {
   "cell_type": "code",
   "execution_count": 3,
   "id": "012bc816-989b-4bf1-9737-36a72262cec5",
   "metadata": {},
   "outputs": [
    {
     "data": {
      "text/plain": [
       "<bip44.wallet.Wallet at 0x7fd8b9b38a60>"
      ]
     },
     "execution_count": 3,
     "metadata": {},
     "output_type": "execute_result"
    }
   ],
   "source": [
    "# Generate a Wallet\n",
    "wallet = Wallet(mnemonic)\n",
    "wallet\n",
    "# pass the mnemonic seed phrase into it as a parameter. \n",
    "# save the HD wallet as a new variable named wallet\n",
    "# the wallet variable should be a bip44. wallet object which meets the standards in BIP-44"
   ]
  },
  {
   "cell_type": "code",
   "execution_count": 4,
   "id": "d0bf5f1f-a7f4-41de-b004-12dc90dd9752",
   "metadata": {},
   "outputs": [
    {
     "data": {
      "text/plain": [
       "b'\\xdb\\xf2\\xf6\\x8e\\x02\\xb4\\xce:O9\\x8d\\x04\\xdc}\\x87\\x812K\\xf5\\xa7\\xbbA\\x9b\\xb3\\xf8m\\x9c\\x13\\x82 \\xc0\\xe6'"
      ]
     },
     "execution_count": 4,
     "metadata": {},
     "output_type": "execute_result"
    }
   ],
   "source": [
    "# Create the public and private keys associated with a new Ethereum account\n",
    "private, public = wallet.derive_account(\"eth\")\n",
    "# call the derive_account function on our wallet instance\n",
    "# pass it the string “eth”\n",
    "# `derive_account` uses the mnemonic seed phrase stored in the wallet object instance \n",
    "# to generate a public-private key pair\n",
    "# store the private/public key as variables named private and public, respectively.\n",
    "# the string “eth” associates this private-public key pair with the Ethereum blockchain.\n",
    "\n",
    "# Display the private key\n",
    "private"
   ]
  },
  {
   "cell_type": "code",
   "execution_count": 5,
   "id": "62b2776c-5026-4d12-a740-52e3b052f4f0",
   "metadata": {},
   "outputs": [
    {
     "name": "stdout",
     "output_type": "stream",
     "text": [
      "0xe87eB9449c90E73cdB149684232C230B4E5ffB33\n"
     ]
    }
   ],
   "source": [
    "# Create an Ethereum account by passing the private key via the Account object\n",
    "account = Account.privateKeyToAccount(private)\n",
    "# send transactions to the Ethereum blockchain using the private key.\n",
    "# allow other participants to send cryptocurrency funds to us\n",
    "\n",
    "# Print the account address associated with the Ethereum account\n",
    "print(account.address)\n",
    "# return a new Ethereum address that other blockchain participants can use to send us funds."
   ]
  },
  {
   "cell_type": "code",
   "execution_count": null,
   "id": "58ed5099-1c9c-488e-85af-a12c4ce34b23",
   "metadata": {},
   "outputs": [],
   "source": [
    "# In Ethereum, an account address is a shortened version of the participant's public key.\n",
    "# We can use this address to receive funds on any Ethereum-based blockchain. \n",
    "# Because our Ethereum account address is a shortened version of our public key, \n",
    "# it is safe for us to share our account address with other blockchain participants."
   ]
  },
  {
   "cell_type": "code",
   "execution_count": 6,
   "id": "9d0ebbf1-0f16-4425-8f4f-1f7c24d39bc4",
   "metadata": {},
   "outputs": [
    {
     "data": {
      "text/plain": [
       "HexBytes('0xdbf2f68e02b4ce3a4f398d04dc7d8781324bf5a7bb419bb3f86d9c138220c0e6')"
      ]
     },
     "execution_count": 6,
     "metadata": {},
     "output_type": "execute_result"
    }
   ],
   "source": [
    "# Call account.privateKey to access the private key associated with new Ethereum account\n",
    "account.privateKey"
   ]
  },
  {
   "cell_type": "code",
   "execution_count": 18,
   "id": "05031893-71a8-41b2-a475-9716452d303f",
   "metadata": {},
   "outputs": [
    {
     "data": {
      "text/plain": [
       "SignedMessage(messageHash=HexBytes('0xd47972ea801919608a5e93032c07f111693ad78694b37e224e78a468eb53b113'), r=107565193562483587716577285222965076208593350305866458326540754583754024394025, s=56021613986402310173032884445744953041293837179590477318980539506395560190449, v=28, signature=HexBytes('0xedcfbdf79e54257bcb4d19f50bb3bc4b8f316614fdbcbe5ab2e065d8d4979d297bdb1c1fb2b0137a5ed04b21d5724c4b3c56cc7eda912e2941b20b2d17faa1f11c'))"
      ]
     },
     "execution_count": 18,
     "metadata": {},
     "output_type": "execute_result"
    }
   ],
   "source": [
    "# Create a string message \n",
    "msg = \"Zach owes Glenna $40\"\n",
    "\n",
    "# Use the encode_defunct message to encode your message string\n",
    "message = encode_defunct(text=msg)\n",
    "\n",
    "# Use w3.eth.account.sign_message to create a signed message\n",
    "# Pass the method your encoded message and private key\n",
    "signed_message = w3.eth.account.sign_message(message, private_key=private)\n",
    "\n",
    "# Review your signed message\n",
    "signed_message"
   ]
  },
  {
   "cell_type": "code",
   "execution_count": 19,
   "id": "d893923d-47c4-48b7-b926-fb8a9842119b",
   "metadata": {},
   "outputs": [
    {
     "data": {
      "text/plain": [
       "'0xe87eB9449c90E73cdB149684232C230B4E5ffB33'"
      ]
     },
     "execution_count": 19,
     "metadata": {},
     "output_type": "execute_result"
    }
   ],
   "source": [
    "# Call the `w3.eth.account.recover_message` method\n",
    "# Pass your encoded message variable and the message’s signature \n",
    "w3.eth.account.recover_message(message, signature=signed_message.signature)"
   ]
  }
 ],
 "metadata": {
  "kernelspec": {
   "display_name": "Python 3 (ipykernel)",
   "language": "python",
   "name": "python3"
  },
  "language_info": {
   "codemirror_mode": {
    "name": "ipython",
    "version": 3
   },
   "file_extension": ".py",
   "mimetype": "text/x-python",
   "name": "python",
   "nbconvert_exporter": "python",
   "pygments_lexer": "ipython3",
   "version": "3.9.16"
  }
 },
 "nbformat": 4,
 "nbformat_minor": 5
}
